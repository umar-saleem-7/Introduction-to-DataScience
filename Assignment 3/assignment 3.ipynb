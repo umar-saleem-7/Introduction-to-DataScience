{
 "cells": [
  {
   "cell_type": "code",
   "execution_count": 7,
   "id": "506da651-63df-497f-8067-d9d69fc5cbb6",
   "metadata": {},
   "outputs": [],
   "source": [
    "import functools\n",
    "import logging"
   ]
  },
  {
   "cell_type": "markdown",
   "id": "e5d4fdf4-04f9-45ee-a2e9-16d0af29eb73",
   "metadata": {},
   "source": [
    "# Task 1: Building a System to Handle Order and Customer Data\n",
    "\n",
    "Built a system to handle order and customer data by using lambda functions, Python's built-in functions (e.g., `map()`, \n",
    "`filter()`, `reduce()`), and proper exception handling.\n",
    "\n",
    "## Part A: Function to Validate Orders\n",
    "\n",
    "- This function filters out invalid orders where the total is either non-numeric or less than zero. It also includes exception handling to manage type conversion issues.\n",
    "\n",
    "- You are given a list of dictionaries where each dictionary represents an order with customer \n",
    "details. "
   ]
  },
  {
   "cell_type": "code",
   "execution_count": 1,
   "id": "29c63d1e-2fec-4425-af64-d15177b561c1",
   "metadata": {},
   "outputs": [],
   "source": [
    "orders = [ \n",
    "{\"customer\": \"Alice\", \"total\": 250.5}, \n",
    "{\"customer\": \"Bob\", \"total\": \"invalid_data\"}, \n",
    "{\"customer\": \"Charlie\", \"total\": 450}, \n",
    "{\"customer\": \"Daisy\", \"total\": 100.0}, \n",
    "{\"customer\": \"Eve\", \"total\": -30},\n",
    "]"
   ]
  },
  {
   "cell_type": "code",
   "execution_count": 2,
   "id": "4893f0a1-a35a-4ae9-89b9-216d59b547cb",
   "metadata": {},
   "outputs": [],
   "source": [
    "def filterValidOrders(orders):\n",
    "    try:\n",
    "        validData = filter(lambda orders: (isinstance(orders['total'], (int, float)) and orders['total'] >= 0), orders)\n",
    "        validData = list(validData)\n",
    "        return validData\n",
    "    except Exception as e:\n",
    "        print(\"Error:\",e)\n",
    "        return []\n"
   ]
  },
  {
   "cell_type": "code",
   "execution_count": 3,
   "id": "92ec9de2-b81d-4311-a266-16ae93f2497a",
   "metadata": {},
   "outputs": [
    {
     "name": "stdout",
     "output_type": "stream",
     "text": [
      "{'customer': 'Alice', 'total': 250.5}\n",
      "{'customer': 'Charlie', 'total': 450}\n",
      "{'customer': 'Daisy', 'total': 100.0}\n"
     ]
    }
   ],
   "source": [
    "filteredorders = filterValidOrders(orders)\n",
    "for order in filteredorders:\n",
    "    print(order)"
   ]
  },
  {
   "cell_type": "markdown",
   "id": "41d57630-d6d3-4411-b19f-95a7f25dd961",
   "metadata": {},
   "source": [
    "## Part B: Discount on Orders\n",
    "\n",
    "After filtering the orders, 10% discount on all orders above $300. \n",
    "\n",
    "### Write a function that:\n",
    "- Uses the `map()` function with a lambda to apply the discount to qualifying orders.\n",
    "- Returns a new list with the updated totals for each customer.\n"
   ]
  },
  {
   "cell_type": "code",
   "execution_count": 4,
   "id": "7621d41c-1062-478f-b538-df9d2c1a917f",
   "metadata": {},
   "outputs": [],
   "source": [
    "def applyDiscount(orders):\n",
    "    discount = map(lambda order: {'customer': order['customer'], 'total': (order['total'] - order['total'] * 0.1)} if order['total'] > 300 else order, orders)\n",
    "\n",
    "    discountedOrders = list(discount)\n",
    "    return discountedOrders\n"
   ]
  },
  {
   "cell_type": "code",
   "execution_count": 6,
   "id": "54435353-ab30-4aba-bb36-34f12a82cac5",
   "metadata": {},
   "outputs": [
    {
     "name": "stdout",
     "output_type": "stream",
     "text": [
      "{'customer': 'Alice', 'total': 250.5}\n",
      "{'customer': 'Charlie', 'total': 405.0}\n",
      "{'customer': 'Daisy', 'total': 100.0}\n"
     ]
    }
   ],
   "source": [
    "discountedOrders = applyDiscount(filteredorders)\n",
    "for order in discountedOrders:\n",
    "    print(order)"
   ]
  },
  {
   "cell_type": "markdown",
   "id": "d44ce736-3bb6-4141-8fdc-f383fb8a0c93",
   "metadata": {},
   "source": [
    "# Part C: CalculateTotal Sales\n",
    "\n",
    "Use the `reduce()` function with a lambda to: \n",
    "- Calculate the total sales from the list of valid orders (after applying discounts)."
   ]
  },
  {
   "cell_type": "code",
   "execution_count": 8,
   "id": "4db8e6ae-4416-40f1-8078-fa1ac93f48b3",
   "metadata": {},
   "outputs": [],
   "source": [
    "def totalSales(orders):\n",
    "    totalsales = functools.reduce(lambda sum, order: sum + order['total'], orders, 0)\n",
    "    return totalsales"
   ]
  },
  {
   "cell_type": "code",
   "execution_count": 10,
   "id": "ebef212d-b39a-4876-987b-ddb2ae9b0bec",
   "metadata": {},
   "outputs": [
    {
     "name": "stdout",
     "output_type": "stream",
     "text": [
      "Total sales:  755.5\n"
     ]
    }
   ],
   "source": [
    "sales = totalSales(discountedOrders)\n",
    "print('Total sales: ',sales)"
   ]
  },
  {
   "cell_type": "markdown",
   "id": "f6c8e6e7-e7c9-4f41-b3e8-3696d64132d9",
   "metadata": {},
   "source": [
    "# Task 2: Iterator and Generator\n",
    "\n",
    "## Part A: Custom Iterator\n",
    "\n",
    "Create a custom iterator class `SquareIterator` that: \n",
    "- Takes an integer `n` and iterates over the first `n` numbers, yielding their squares.\n"
   ]
  },
  {
   "cell_type": "code",
   "execution_count": 11,
   "id": "f03df85f-e14d-4031-b6a7-dbe6413e97a1",
   "metadata": {},
   "outputs": [],
   "source": [
    "class SquareIterator:\n",
    "    def __init__(self, n):\n",
    "        self.n = n\n",
    "\n",
    "    def __iter__(self):\n",
    "        for i in range(1, self.n+1):\n",
    "            yield i * i"
   ]
  },
  {
   "cell_type": "code",
   "execution_count": 13,
   "id": "9544d4b3-f6d8-4630-b3e7-cc948943559a",
   "metadata": {},
   "outputs": [
    {
     "name": "stdout",
     "output_type": "stream",
     "text": [
      "1\n",
      "4\n",
      "9\n",
      "16\n",
      "25\n",
      "36\n",
      "49\n"
     ]
    }
   ],
   "source": [
    "squares = SquareIterator(7)\n",
    "for square in squares:\n",
    "    print(square)"
   ]
  },
  {
   "cell_type": "markdown",
   "id": "73683ed6-bf64-4e24-b58b-eb13204c8536",
   "metadata": {},
   "source": [
    "## Part B: Fibonacci Generator\n",
    "\n",
    "Write a generator function `fibonacci_generator()` that: \n",
    "- Yields the Fibonacci sequence up to the number `n`."
   ]
  },
  {
   "cell_type": "code",
   "execution_count": 14,
   "id": "8fe8bd9f-f435-4744-9499-ef69719d71ee",
   "metadata": {},
   "outputs": [],
   "source": [
    "def fibonacci_generator(n):\n",
    "    a, b = 0, 1\n",
    "    if n == 0:\n",
    "        yield a\n",
    "    else:\n",
    "        yield a\n",
    "        yield b\n",
    "    while (a+b) <= n:\n",
    "        yield a+b\n",
    "        a, b = b, a+b"
   ]
  },
  {
   "cell_type": "code",
   "execution_count": 17,
   "id": "4ae1c2a5-aa29-45be-ac85-03cd72f92070",
   "metadata": {},
   "outputs": [
    {
     "name": "stdout",
     "output_type": "stream",
     "text": [
      "0\n",
      "1\n",
      "1\n",
      "2\n",
      "3\n",
      "5\n",
      "8\n",
      "13\n",
      "21\n",
      "34\n"
     ]
    }
   ],
   "source": [
    "fibo = fibonacci_generator(50)\n",
    "for fib in fibo:\n",
    "    print(fib)"
   ]
  },
  {
   "cell_type": "markdown",
   "id": "6817f44d-9a51-4722-85d3-2e17c275475b",
   "metadata": {},
   "source": [
    "# Task 3: Exception Handling and Function Decorator\n",
    "\n",
    "## Part A: Chained Exceptions\n",
    "\n",
    "Write a function that:\n",
    "- Takes a list of numbers and tries to divide each number by a divisor.\n",
    "- If the divisor is zero, raise a custom exception.\n",
    "- If any other error occurs (e.g., non-numeric input), raise an appropriate exception and chain it to the custom exception to provide context.\n",
    "\n"
   ]
  },
  {
   "cell_type": "code",
   "execution_count": 18,
   "id": "86b8cb1e-deef-4555-9571-99b1868ca5b8",
   "metadata": {},
   "outputs": [],
   "source": [
    "def divideNumbers(nums, divisor):\n",
    "    for num in nums:\n",
    "        try:\n",
    "            if divisor == 0:\n",
    "                raise ZeroDivisionError('Division by zero is not allowed!')\n",
    "            ans = num / divisor\n",
    "        except ZeroDivisionError as e:\n",
    "            print(f'Error occurred! while dividing the number \\'{num}\\' by \\'{divisor}\\': {e}')\n",
    "            ans = None\n",
    "            break\n",
    "        except ValueError as e:\n",
    "            print(f'Error occurred! while dividing the number \\'{num}\\' by \\'{divisor}\\': {e}')\n",
    "            ans = None\n",
    "        except TypeError as e:\n",
    "            print(f'Error occurred! while dividing the number \\'{num}\\' by \\'{divisor}\\': {e}')\n",
    "            ans = None\n",
    "        finally:\n",
    "            if ans:\n",
    "                print(f'The result of division {num}/{divisor} is: {ans}')\n",
    "            print('Operation Ended')"
   ]
  },
  {
   "cell_type": "code",
   "execution_count": 20,
   "id": "9e37af3d-7c29-473f-a01a-74f441236a8f",
   "metadata": {},
   "outputs": [
    {
     "name": "stdout",
     "output_type": "stream",
     "text": [
      "The result of division 10/2 is: 5.0\n",
      "Operation Ended\n",
      "The result of division 2/2 is: 1.0\n",
      "Operation Ended\n",
      "Error occurred! while dividing the number 'Three' by '2': unsupported operand type(s) for /: 'str' and 'int'\n",
      "Operation Ended\n",
      "The result of division 5/2 is: 2.5\n",
      "Operation Ended\n",
      "The result of division 7/2 is: 3.5\n",
      "Operation Ended\n"
     ]
    }
   ],
   "source": [
    "nums = [10, 2, 'Three', 5, 7]\n",
    "# divisor = 0\n",
    "divisor = 2\n",
    "divideNumbers(nums, divisor)"
   ]
  },
  {
   "cell_type": "markdown",
   "id": "d571d09c-a231-4ec5-af3c-2445b66b1946",
   "metadata": {},
   "source": [
    "## Part B: Exception Logging Decorator\n",
    "\n",
    "Create a decorator that:\n",
    "- Logs exceptions raised during the execution of a function.\n",
    "- It should print the exception type, message, and the function where the exception occurred."
   ]
  },
  {
   "cell_type": "code",
   "execution_count": 21,
   "id": "b2fa40af-5763-4326-be06-36c83b7acdf0",
   "metadata": {},
   "outputs": [],
   "source": [
    "logging.basicConfig(level=logging.ERROR, format='%(message)s')\n",
    "\n",
    "def exception_decorator(function):\n",
    "    @functools.wraps(function)\n",
    "    def wrapper(*args, **kwargs):\n",
    "        try:\n",
    "            return function(*args, **kwargs)\n",
    "        except Exception as e:\n",
    "            logging.error(f\"Exception occurred in function '{function.__name__}':\")\n",
    "            logging.error(f\"Exception type: {type(e).__name__}\")\n",
    "            logging.error(f\"Exception message: {e}\")\n",
    "            raise\n",
    "    return wrapper"
   ]
  },
  {
   "cell_type": "code",
   "execution_count": 24,
   "id": "e2ecd57d-18ae-4b8a-b07a-2174ece1f1e3",
   "metadata": {},
   "outputs": [
    {
     "name": "stderr",
     "output_type": "stream",
     "text": [
      "Exception occurred in function 'divide':\n",
      "Exception type: TypeError\n",
      "Exception message: unsupported operand type(s) for /: 'int' and 'str'\n"
     ]
    },
    {
     "name": "stdout",
     "output_type": "stream",
     "text": [
      "Exception handled\n"
     ]
    }
   ],
   "source": [
    "@exception_decorator\n",
    "def divide(a, b):\n",
    "    return a / b\n",
    "\n",
    "try:\n",
    "    # divide(8, 0)\n",
    "    divide(7, 'a') \n",
    "except Exception as e:\n",
    "    print('Exception handled')\n"
   ]
  }
 ],
 "metadata": {
  "kernelspec": {
   "display_name": "Python 3 (ipykernel)",
   "language": "python",
   "name": "python3"
  },
  "language_info": {
   "codemirror_mode": {
    "name": "ipython",
    "version": 3
   },
   "file_extension": ".py",
   "mimetype": "text/x-python",
   "name": "python",
   "nbconvert_exporter": "python",
   "pygments_lexer": "ipython3",
   "version": "3.11.2"
  }
 },
 "nbformat": 4,
 "nbformat_minor": 5
}
